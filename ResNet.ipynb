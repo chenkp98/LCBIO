{
 "cells": [
  {
   "cell_type": "markdown",
   "metadata": {},
   "source": [
    "# 导入数据"
   ]
  },
  {
   "cell_type": "markdown",
   "metadata": {},
   "source": [
    "### 解压文件"
   ]
  },
  {
   "cell_type": "code",
   "execution_count": null,
   "metadata": {},
   "outputs": [],
   "source": [
    "import tarfile\n",
    "tar = tarfile.open('/content/CUB_200_2011.tgz')     \n",
    "tar.extractall('/content')                      # 解压文件到/content目录下\n",
    "tar.close()"
   ]
  },
  {
   "cell_type": "markdown",
   "metadata": {},
   "source": [
    "### 读取数据并划分训练集、测试集和验证集"
   ]
  },
  {
   "cell_type": "code",
   "execution_count": null,
   "metadata": {},
   "outputs": [],
   "source": [
    "import torchvision.transforms as transforms\n",
    "import torchvision.datasets as datasets\n",
    "from torch.utils.data import DataLoader, random_split\n",
    "\n",
    "def get_data_loaders(data_dir, batch_size):\n",
    "  \"\"\"\n",
    "  将图像重构成224*224的像素\n",
    "  shuffle=True时，数据加载器会在每个时期重新洗牌数据，以增加训练的随机性。这对于避免模型过度拟合训练数据、增加模型的泛化能力非常重要。\n",
    "  DataLoader类创建训练集、验证集和测试集的数据加载器。数据加载器用于批量加载数据，并提供数据的迭代器。\n",
    "  将同一类的图像放在一个文件夹中，此函数会自动分辨哪个图像属于哪一类.\n",
    "  接受两个参数：data_dir（数据集所在的目录）和batch_size（批量大小）\n",
    "  \"\"\"\n",
    "  transform = transforms.Compose([transforms.Resize(256),\n",
    "                   transforms.CenterCrop(224),\n",
    "                   transforms.ToTensor()])\n",
    "  all_data = datasets.ImageFolder(data_dir, transform=transform)\n",
    "  train_data_len = int(len(all_data)*0.75)\n",
    "  valid_data_len = int((len(all_data) - train_data_len)/2)\n",
    "  test_data_len = int(len(all_data) - train_data_len - valid_data_len)\n",
    "  train_data, val_data, test_data = random_split(all_data, [train_data_len, valid_data_len, test_data_len])\n",
    "  train_loader = DataLoader(train_data, batch_size=batch_size, shuffle=True)\n",
    "  val_loader = DataLoader(val_data, batch_size=batch_size, shuffle=True)\n",
    "  test_loader = DataLoader(test_data, batch_size=batch_size, shuffle=True)\n",
    "  #使用\n",
    "  #\n",
    "  return ((train_loader, val_loader, test_loader),train_data, val_data, test_data, all_data.classes)\n",
    "\n",
    "(train_loader, val_loader, test_loader),train_data, val_data, test_data, classes = get_data_loaders(\"images_path/\", 64)"
   ]
  },
  {
   "cell_type": "markdown",
   "metadata": {},
   "source": [
    "### 将图像进行归一化处理"
   ]
  },
  {
   "cell_type": "code",
   "execution_count": null,
   "metadata": {},
   "outputs": [],
   "source": [
    "def normalize_image(image):\n",
    "    \"\"\" \n",
    "    通过调用 clamp_ 方法，将图像张量中的值约束在 image_min 和 image_max 之间\n",
    "    调用 add_ 方法将 image_min 从图像张量中减去，使得最小值变为 0\n",
    "    调用 div_ 方法将图像张量除以 image_max - image_min + 1e-5，进行归一化操作\n",
    "    最后，返回归一化后的图像张量\n",
    "\n",
    "    \"\"\"\n",
    "    image_min = image.min()\n",
    "    image_max = image.max()\n",
    "    image.clamp_(min = image_min, max = image_max)\n",
    "    image.add_(-image_min).div_(image_max - image_min + 1e-5)\n",
    "    return image"
   ]
  },
  {
   "cell_type": "markdown",
   "metadata": {},
   "source": [
    "### 展示图像和标签"
   ]
  },
  {
   "cell_type": "code",
   "execution_count": null,
   "metadata": {},
   "outputs": [],
   "source": [
    "import numpy as np\n",
    "import matplotlib.pyplot as plt\n",
    "def plot_images(images, labels, normalize = True):\n",
    "    \"\"\" \n",
    "    plot_images 的函数，用于绘制图像和对应的标签\n",
    "    引用了 normalize_image 函数，因此在调用 plot_images 函数之前，需要确保已经定义了 normalize_image 函数。\n",
    "\n",
    "    \"\"\"\n",
    "    n_images = len(images)\n",
    "    rows = int(np.sqrt(n_images))\n",
    "    cols = int(np.sqrt(n_images))\n",
    "    fig = plt.figure(figsize = (15, 15))\n",
    "    for i in range(rows*cols):\n",
    "        ax = fig.add_subplot(rows, cols, i+1)\n",
    "        image = images[i]\n",
    "        if normalize:\n",
    "            image = normalize_image(image)\n",
    "        ax.imshow(image.permute(1, 2, 0).cpu().numpy())\n",
    "        label = labels[i]\n",
    "        ax.set_title(label)\n",
    "        ax.axis('off')\n",
    "\n",
    "\n",
    "N_IMAGES = 25    #从训练数据中选择前 N_IMAGES 个样本，并将它们的图像和标签传递给 plot_images 函数进行绘制\n",
    "images, labels = zip(*[(image, label) for image, label in\n",
    "                           [train_data[i] for i in range(N_IMAGES)]])\n",
    "plot_images(images, labels)"
   ]
  }
 ],
 "metadata": {
  "kernelspec": {
   "display_name": "Python 3",
   "language": "python",
   "name": "python3"
  },
  "language_info": {
   "name": "python",
   "version": "3.10.8"
  },
  "orig_nbformat": 4
 },
 "nbformat": 4,
 "nbformat_minor": 2
}
